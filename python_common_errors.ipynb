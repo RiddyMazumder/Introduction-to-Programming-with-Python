{
  "cells": [
    {
      "cell_type": "markdown",
      "metadata": {
        "id": "view-in-github",
        "colab_type": "text"
      },
      "source": [
        "<a href=\"https://colab.research.google.com/github/RiddyMazumder/Introduction-to-Programming-with-Python/blob/main/python_common_errors.ipynb\" target=\"_parent\"><img src=\"https://colab.research.google.com/assets/colab-badge.svg\" alt=\"Open In Colab\"/></a>"
      ]
    },
    {
      "cell_type": "markdown",
      "metadata": {
        "id": "UDOvKu9zYENi"
      },
      "source": [
        "# Understanding Errors and Exceptions in Python\n",
        "\n",
        "![](https://images.unsplash.com/photo-1616990277552-3db5bca0ce13?ixlib=rb-1.2.1&ixid=MnwxMjA3fDB8MHxwaG90by1wYWdlfHx8fGVufDB8fHx8&auto=format&fit=crop&w=1072&q=80)\n",
        "\n",
        "One of the most common situations while writing code is getting stuck on an unidentifiable error. In such a case, python's ecosystem helps us to trace back our function calls with the help of **traceback reports**, to find out the exception raised.\n",
        "\n",
        "![Imgur](https://i.imgur.com/LsZIyLI.png)\n",
        "\n",
        "\n",
        "\n",
        "These tracebacks return the **exception name** and the **error message** along with the executed code to help us identify the reason for these exceptions being raised.\n",
        "\n",
        "*Exceptions raised simply define the type of error our program has run into.* Which is why these terms are used interchangeably, but precisely mean the same.\n",
        "\n",
        "There are a number of built-in exceptions in python library, who's awareness can help to speed up the our programming. Let's look at some of the important buit-in exceptions in python.  "
      ]
    },
    {
      "cell_type": "markdown",
      "metadata": {
        "id": "JUDvA6FpZlwH"
      },
      "source": [
        "## SyntaxError\n",
        "\n",
        "The most common type of error in a Python program is when the user uses incorrect syntax. i.e, when a piece of code is not in accordance with its documentation.\n",
        "\n",
        "In the code below, the variable `a` has been declared with its desired data type stated before the variable name, which is not how a variable is declared in Python."
      ]
    },
    {
      "cell_type": "code",
      "execution_count": 3,
      "metadata": {
        "colab": {
          "base_uri": "https://localhost:8080/",
          "height": 106
        },
        "id": "KcbLLG9bZlKK",
        "outputId": "7836362a-2dbb-4f1d-b527-ea0f8e795e97"
      },
      "outputs": [
        {
          "output_type": "error",
          "ename": "SyntaxError",
          "evalue": "invalid syntax (<ipython-input-3-14f5aded83ca>, line 1)",
          "traceback": [
            "\u001b[0;36m  File \u001b[0;32m\"<ipython-input-3-14f5aded83ca>\"\u001b[0;36m, line \u001b[0;32m1\u001b[0m\n\u001b[0;31m    int a = 2.8\u001b[0m\n\u001b[0m        ^\u001b[0m\n\u001b[0;31mSyntaxError\u001b[0m\u001b[0;31m:\u001b[0m invalid syntax\n"
          ]
        }
      ],
      "source": [
        "int a = 2.8\n",
        "a"
      ]
    },
    {
      "cell_type": "markdown",
      "metadata": {
        "id": "_5pN6adIjNNP"
      },
      "source": [
        "The error message apprises us that there was an error in our syntax. Delving into the traceback, there is a $ ^ $ Caret symbol, that points out the location of incorrect code which caused the exception ."
      ]
    },
    {
      "cell_type": "code",
      "execution_count": 4,
      "metadata": {
        "colab": {
          "base_uri": "https://localhost:8080/"
        },
        "id": "on-2va0WcLci",
        "outputId": "7b779312-31e5-4af5-d236-86c1e17b8c96"
      },
      "outputs": [
        {
          "output_type": "execute_result",
          "data": {
            "text/plain": [
              "2"
            ]
          },
          "metadata": {},
          "execution_count": 4
        }
      ],
      "source": [
        "# Correct Code:\n",
        "a = int(2.8)\n",
        "a"
      ]
    },
    {
      "cell_type": "markdown",
      "metadata": {
        "id": "4qe_viFsDxbR"
      },
      "source": [
        "## Indentation Error\n",
        "\n",
        "Indentation refers to the spaces in the begining of our code. In other programming languages, indentation is only for readability whereas in python, indentation is very important.\n",
        "\n",
        "*Python uses indentation to indicate a block of code*."
      ]
    },
    {
      "cell_type": "code",
      "execution_count": 6,
      "metadata": {
        "colab": {
          "base_uri": "https://localhost:8080/"
        },
        "id": "MlNJ0ixpZlSF",
        "outputId": "71ff05f1-6941-45db-a360-e0279d0b517c"
      },
      "outputs": [
        {
          "output_type": "stream",
          "name": "stdout",
          "text": [
            "*\n",
            "*\n",
            "*\n",
            "*\n",
            "*\n"
          ]
        }
      ],
      "source": [
        "for i in range(5):\n",
        " print(\"*\")"
      ]
    },
    {
      "cell_type": "markdown",
      "metadata": {
        "id": "yTgVvl-SbZIJ"
      },
      "source": [
        "In the above code, the missing indentation before `print` raises an IndentationError.\n",
        "\n",
        "![](https://i.imgflip.com/3g3u5v.jpg)"
      ]
    },
    {
      "cell_type": "markdown",
      "metadata": {
        "id": "I0fAeTvDvnoB"
      },
      "source": [
        "## Index Error\n",
        "\n",
        "The `IndexError` is thrown when we try to access an element who's index is not in the range of our iterable object.\n",
        "\n",
        "\n",
        "\n"
      ]
    },
    {
      "cell_type": "code",
      "execution_count": 22,
      "metadata": {
        "colab": {
          "base_uri": "https://localhost:8080/",
          "height": 35
        },
        "id": "pRIZO5E-oSCB",
        "outputId": "b94a5398-2e17-406c-d4a2-c9e1a32afecd"
      },
      "outputs": [
        {
          "output_type": "execute_result",
          "data": {
            "text/plain": [
              "'b'"
            ],
            "application/vnd.google.colaboratory.intrinsic+json": {
              "type": "string"
            }
          },
          "metadata": {},
          "execution_count": 22
        }
      ],
      "source": [
        "a_list = [i for i in 'abcdefgh']\n",
        "a_list[1]"
      ]
    },
    {
      "cell_type": "markdown",
      "metadata": {
        "id": "mY-h9zr2oqpy"
      },
      "source": [
        "The indexing of a list begins from zero and goes upto (n-1), where n = length of list.\n",
        "In the code above, we are trying to access the element at the $nth $ index, whereas the last index is $(n-1)$.  "
      ]
    },
    {
      "cell_type": "markdown",
      "metadata": {
        "id": "N0ZcF_lHvthD"
      },
      "source": [
        "## Key Error\n",
        "\n",
        "The `KeyError` is like an IndexError but for dictionaries. It is raised when we try to access an invalid/nonexistent key in the dictionary."
      ]
    },
    {
      "cell_type": "code",
      "execution_count": 26,
      "metadata": {
        "colab": {
          "base_uri": "https://localhost:8080/"
        },
        "id": "4zrSzwvFvxHJ",
        "outputId": "0b3b2e8f-76d6-4115-e4bf-13b8f73c5ca0"
      },
      "outputs": [
        {
          "output_type": "execute_result",
          "data": {
            "text/plain": [
              "1"
            ]
          },
          "metadata": {},
          "execution_count": 26
        }
      ],
      "source": [
        "a_dict = {'a':1, 'b' : 2, 'c' :3}\n",
        "\n",
        "a_dict['a']"
      ]
    },
    {
      "cell_type": "markdown",
      "metadata": {
        "id": "WF70Ue8mL4XF"
      },
      "source": [
        "## Import Error  \n",
        "\n",
        "This exception is raised when the parser is not able to import the module that is needed to be imported.\n",
        "\n",
        "\n",
        "\n"
      ]
    },
    {
      "cell_type": "code",
      "execution_count": 32,
      "metadata": {
        "colab": {
          "base_uri": "https://localhost:8080/",
          "height": 315
        },
        "id": "TUdosEv_kQXF",
        "outputId": "eae9adaa-0822-4a24-a6c1-2c4b3aa41d44"
      },
      "outputs": [
        {
          "output_type": "error",
          "ename": "ImportError",
          "evalue": "cannot import name 'mediam' from 'numpy' (/usr/local/lib/python3.11/dist-packages/numpy/__init__.py)",
          "traceback": [
            "\u001b[0;31m---------------------------------------------------------------------------\u001b[0m",
            "\u001b[0;31mImportError\u001b[0m                               Traceback (most recent call last)",
            "\u001b[0;32m<ipython-input-32-be0dea60ada8>\u001b[0m in \u001b[0;36m<cell line: 0>\u001b[0;34m()\u001b[0m\n\u001b[0;32m----> 1\u001b[0;31m \u001b[0;32mfrom\u001b[0m \u001b[0mnumpy\u001b[0m \u001b[0;32mimport\u001b[0m \u001b[0mmediam\u001b[0m\u001b[0;34m\u001b[0m\u001b[0;34m\u001b[0m\u001b[0m\n\u001b[0m",
            "\u001b[0;31mImportError\u001b[0m: cannot import name 'mediam' from 'numpy' (/usr/local/lib/python3.11/dist-packages/numpy/__init__.py)",
            "",
            "\u001b[0;31m---------------------------------------------------------------------------\u001b[0;32m\nNOTE: If your import is failing due to a missing package, you can\nmanually install dependencies using either !pip or !apt.\n\nTo view examples of installing some common dependencies, click the\n\"Open Examples\" button below.\n\u001b[0;31m---------------------------------------------------------------------------\u001b[0m\n"
          ],
          "errorDetails": {
            "actions": [
              {
                "action": "open_url",
                "actionText": "Open Examples",
                "url": "/notebooks/snippets/importing_libraries.ipynb"
              }
            ]
          }
        }
      ],
      "source": [
        "from numpy import mediam"
      ]
    },
    {
      "cell_type": "markdown",
      "metadata": {
        "id": "M4bxIMdylRb9"
      },
      "source": [
        "Now, there is no `numpy.mediam` function in the `numpy` library. Instead the correct function is `numpy.median` which is why we got the `ImportError`."
      ]
    },
    {
      "cell_type": "markdown",
      "metadata": {
        "id": "W0osnqGGxZab"
      },
      "source": [
        "### ModuleNotFoundError\n",
        "\n",
        "This is a subclass of `ImportError`. It is raised when the module we are trying to import cannot be located."
      ]
    },
    {
      "cell_type": "code",
      "execution_count": 33,
      "metadata": {
        "colab": {
          "base_uri": "https://localhost:8080/",
          "height": 315
        },
        "id": "_jSVqcoGxP6f",
        "outputId": "20cd0d76-18a1-4df4-8af0-95d8af3bc0ef"
      },
      "outputs": [
        {
          "output_type": "error",
          "ename": "ModuleNotFoundError",
          "evalue": "No module named 'wrongmodule'",
          "traceback": [
            "\u001b[0;31m---------------------------------------------------------------------------\u001b[0m",
            "\u001b[0;31mModuleNotFoundError\u001b[0m                       Traceback (most recent call last)",
            "\u001b[0;32m<ipython-input-33-1160ccc1fb60>\u001b[0m in \u001b[0;36m<cell line: 0>\u001b[0;34m()\u001b[0m\n\u001b[0;32m----> 1\u001b[0;31m \u001b[0;32mimport\u001b[0m \u001b[0mwrongmodule\u001b[0m\u001b[0;34m\u001b[0m\u001b[0;34m\u001b[0m\u001b[0m\n\u001b[0m",
            "\u001b[0;31mModuleNotFoundError\u001b[0m: No module named 'wrongmodule'",
            "",
            "\u001b[0;31m---------------------------------------------------------------------------\u001b[0;32m\nNOTE: If your import is failing due to a missing package, you can\nmanually install dependencies using either !pip or !apt.\n\nTo view examples of installing some common dependencies, click the\n\"Open Examples\" button below.\n\u001b[0;31m---------------------------------------------------------------------------\u001b[0m\n"
          ],
          "errorDetails": {
            "actions": [
              {
                "action": "open_url",
                "actionText": "Open Examples",
                "url": "/notebooks/snippets/importing_libraries.ipynb"
              }
            ]
          }
        }
      ],
      "source": [
        "import wrongmodule"
      ]
    },
    {
      "cell_type": "markdown",
      "metadata": {
        "id": "2ei2Sf__l41p"
      },
      "source": [
        "Because `wrongmodule` is a made up module/library, we get the exception `ModuleNotFoundError`."
      ]
    },
    {
      "cell_type": "markdown",
      "metadata": {
        "id": "_KXNGbJfLwO5"
      },
      "source": [
        "## Name Error\n",
        "\n",
        "The `NameError` is raised when we call an undefined variable, class or function locally or globally.\n"
      ]
    },
    {
      "cell_type": "code",
      "execution_count": 34,
      "metadata": {
        "colab": {
          "base_uri": "https://localhost:8080/"
        },
        "id": "sfVQCRdexLtg",
        "outputId": "7877485e-6106-4e94-c0b6-6bb63efdcf32"
      },
      "outputs": [
        {
          "output_type": "stream",
          "name": "stdout",
          "text": [
            "2\n"
          ]
        }
      ],
      "source": [
        "print(a)"
      ]
    },
    {
      "cell_type": "markdown",
      "metadata": {
        "id": "sbceOSEGL092"
      },
      "source": [
        "## Attribute Error\n",
        "\n",
        "An `AttributeError` is thrown when we access that attribute on an object which it doesnt have defined.\n",
        "\n",
        "For example in the code below, we are trying to access the `length` attribute of an instance of `Frame` class. But because there is no such attribute as `length` defined, we get an `AttributeError`."
      ]
    },
    {
      "cell_type": "code",
      "execution_count": 42,
      "metadata": {
        "colab": {
          "base_uri": "https://localhost:8080/",
          "height": 176
        },
        "id": "Gd-djChiZlOj",
        "outputId": "c8d2680e-1702-410a-b3f3-d29f0f59db9f"
      },
      "outputs": [
        {
          "output_type": "error",
          "ename": "AttributeError",
          "evalue": "'Frame' object has no attribute 'length'",
          "traceback": [
            "\u001b[0;31m---------------------------------------------------------------------------\u001b[0m",
            "\u001b[0;31mAttributeError\u001b[0m                            Traceback (most recent call last)",
            "\u001b[0;32m<ipython-input-42-743aa5d02062>\u001b[0m in \u001b[0;36m<cell line: 0>\u001b[0;34m()\u001b[0m\n\u001b[1;32m      7\u001b[0m \u001b[0mframe2\u001b[0m \u001b[0;34m=\u001b[0m \u001b[0mFrame\u001b[0m\u001b[0;34m(\u001b[0m\u001b[0mbreadth\u001b[0m\u001b[0;34m=\u001b[0m\u001b[0;36m20\u001b[0m\u001b[0;34m)\u001b[0m\u001b[0;34m\u001b[0m\u001b[0;34m\u001b[0m\u001b[0m\n\u001b[1;32m      8\u001b[0m \u001b[0;34m\u001b[0m\u001b[0m\n\u001b[0;32m----> 9\u001b[0;31m \u001b[0mframe2\u001b[0m\u001b[0;34m.\u001b[0m\u001b[0mlength\u001b[0m\u001b[0;34m\u001b[0m\u001b[0;34m\u001b[0m\u001b[0m\n\u001b[0m",
            "\u001b[0;31mAttributeError\u001b[0m: 'Frame' object has no attribute 'length'"
          ]
        }
      ],
      "source": [
        "class Frame:\n",
        "  count = 0\n",
        "  def __init__(self, breadth = 15):\n",
        "    Frame.count +=1\n",
        "\n",
        "frame1 = Frame()\n",
        "frame2 = Frame(breadth=20)\n",
        "\n",
        "frame2.length\n"
      ]
    },
    {
      "cell_type": "markdown",
      "metadata": {
        "id": "qKo-wb2iL7CK"
      },
      "source": [
        "## Value Error\n",
        "\n",
        "A value error is raised when an operation in python is given the right type of argument but an inappropriate value.\n",
        "\n",
        "This can be considered a more generic case of `IndexError`. Where an element is being accesed but is not present. Or visa versa.\n",
        "\n",
        "Let's look at some examples of value error."
      ]
    },
    {
      "cell_type": "code",
      "execution_count": 43,
      "metadata": {
        "colab": {
          "base_uri": "https://localhost:8080/",
          "height": 141
        },
        "id": "05IXsl8fvuRT",
        "outputId": "733ef842-8aa3-4ac5-e416-ccaa24e6c300"
      },
      "outputs": [
        {
          "output_type": "error",
          "ename": "ValueError",
          "evalue": "too many values to unpack (expected 2)",
          "traceback": [
            "\u001b[0;31m---------------------------------------------------------------------------\u001b[0m",
            "\u001b[0;31mValueError\u001b[0m                                Traceback (most recent call last)",
            "\u001b[0;32m<ipython-input-43-ff438f317ff0>\u001b[0m in \u001b[0;36m<cell line: 0>\u001b[0;34m()\u001b[0m\n\u001b[0;32m----> 1\u001b[0;31m \u001b[0ma\u001b[0m\u001b[0;34m,\u001b[0m\u001b[0mb\u001b[0m \u001b[0;34m=\u001b[0m \u001b[0;36m2\u001b[0m\u001b[0;34m,\u001b[0m\u001b[0;36m4\u001b[0m\u001b[0;34m,\u001b[0m\u001b[0;36m6\u001b[0m\u001b[0;34m\u001b[0m\u001b[0;34m\u001b[0m\u001b[0m\n\u001b[0m",
            "\u001b[0;31mValueError\u001b[0m: too many values to unpack (expected 2)"
          ]
        }
      ],
      "source": [
        "a,b = 2,4,6"
      ]
    },
    {
      "cell_type": "code",
      "execution_count": 44,
      "metadata": {
        "colab": {
          "base_uri": "https://localhost:8080/",
          "height": 141
        },
        "id": "a8gPdLQ8wmBo",
        "outputId": "569ccf76-0415-4692-f69b-058d350d0e3d"
      },
      "outputs": [
        {
          "output_type": "error",
          "ename": "ValueError",
          "evalue": "could not convert string to float: 'abc'",
          "traceback": [
            "\u001b[0;31m---------------------------------------------------------------------------\u001b[0m",
            "\u001b[0;31mValueError\u001b[0m                                Traceback (most recent call last)",
            "\u001b[0;32m<ipython-input-44-1d9e98dc2a69>\u001b[0m in \u001b[0;36m<cell line: 0>\u001b[0;34m()\u001b[0m\n\u001b[0;32m----> 1\u001b[0;31m \u001b[0mfloat\u001b[0m\u001b[0;34m(\u001b[0m\u001b[0;34m'abc'\u001b[0m\u001b[0;34m)\u001b[0m\u001b[0;34m\u001b[0m\u001b[0;34m\u001b[0m\u001b[0m\n\u001b[0m",
            "\u001b[0;31mValueError\u001b[0m: could not convert string to float: 'abc'"
          ]
        }
      ],
      "source": [
        "float('abc')"
      ]
    },
    {
      "cell_type": "markdown",
      "metadata": {
        "id": "2BMK7GVrvvzg"
      },
      "source": [
        "## Type Error\n",
        "\n",
        "A `TypeError` is thrown when a python function/operation is applied to an object of inappropriate datatype. For example, adding two strings."
      ]
    },
    {
      "cell_type": "code",
      "execution_count": 45,
      "metadata": {
        "colab": {
          "base_uri": "https://localhost:8080/",
          "height": 141
        },
        "id": "5jkDucBQpOqA",
        "outputId": "7f6678c9-a88f-4411-de39-c1266d8ee08f"
      },
      "outputs": [
        {
          "output_type": "error",
          "ename": "TypeError",
          "evalue": "sum() can't sum strings [use ''.join(seq) instead]",
          "traceback": [
            "\u001b[0;31m---------------------------------------------------------------------------\u001b[0m",
            "\u001b[0;31mTypeError\u001b[0m                                 Traceback (most recent call last)",
            "\u001b[0;32m<ipython-input-45-6bee6b900189>\u001b[0m in \u001b[0;36m<cell line: 0>\u001b[0;34m()\u001b[0m\n\u001b[0;32m----> 1\u001b[0;31m \u001b[0msum\u001b[0m\u001b[0;34m(\u001b[0m\u001b[0;34m'a'\u001b[0m\u001b[0;34m,\u001b[0m\u001b[0;34m'b'\u001b[0m\u001b[0;34m)\u001b[0m\u001b[0;34m\u001b[0m\u001b[0;34m\u001b[0m\u001b[0m\n\u001b[0m",
            "\u001b[0;31mTypeError\u001b[0m: sum() can't sum strings [use ''.join(seq) instead]"
          ]
        }
      ],
      "source": [
        "sum('a','b')"
      ]
    },
    {
      "cell_type": "code",
      "execution_count": 54,
      "metadata": {
        "colab": {
          "base_uri": "https://localhost:8080/",
          "height": 176
        },
        "id": "HVFWeuqu6LLO",
        "outputId": "6eab43dd-8b94-4eaf-f6f4-92d5a643f262"
      },
      "outputs": [
        {
          "output_type": "error",
          "ename": "TypeError",
          "evalue": "function_name() takes 0 positional arguments but 1 was given",
          "traceback": [
            "\u001b[0;31m---------------------------------------------------------------------------\u001b[0m",
            "\u001b[0;31mTypeError\u001b[0m                                 Traceback (most recent call last)",
            "\u001b[0;32m<ipython-input-54-6c1ac4e6b6a6>\u001b[0m in \u001b[0;36m<cell line: 0>\u001b[0;34m()\u001b[0m\n\u001b[1;32m      2\u001b[0m   \u001b[0mprint\u001b[0m\u001b[0;34m(\u001b[0m\u001b[0;34m'a'\u001b[0m\u001b[0;34m)\u001b[0m\u001b[0;34m\u001b[0m\u001b[0;34m\u001b[0m\u001b[0m\n\u001b[1;32m      3\u001b[0m \u001b[0;34m\u001b[0m\u001b[0m\n\u001b[0;32m----> 4\u001b[0;31m \u001b[0mfunction_name\u001b[0m\u001b[0;34m(\u001b[0m\u001b[0;36m1\u001b[0m\u001b[0;34m)\u001b[0m\u001b[0;34m\u001b[0m\u001b[0;34m\u001b[0m\u001b[0m\n\u001b[0m",
            "\u001b[0;31mTypeError\u001b[0m: function_name() takes 0 positional arguments but 1 was given"
          ]
        }
      ],
      "source": [
        "def function_name():\n",
        "  print('a')\n",
        "\n",
        "function_name(1)\n"
      ]
    },
    {
      "cell_type": "code",
      "execution_count": 49,
      "metadata": {
        "id": "qsJwaBxgZk4X"
      },
      "outputs": [],
      "source": []
    },
    {
      "cell_type": "markdown",
      "metadata": {
        "id": "sLqFqh8Pz2Hd"
      },
      "source": [
        "\n",
        "\n",
        "- https://docs.python.org/3/library/exceptions.html#built-in-exceptions"
      ]
    },
    {
      "cell_type": "code",
      "execution_count": 53,
      "metadata": {
        "colab": {
          "base_uri": "https://localhost:8080/",
          "height": 159
        },
        "id": "u7cdVeQ2YENk",
        "outputId": "d60ab475-ef49-4e69-d7e7-b78c0665600c"
      },
      "outputs": [
        {
          "output_type": "error",
          "ename": "NameError",
          "evalue": "name 'jovian' is not defined",
          "traceback": [
            "\u001b[0;31m---------------------------------------------------------------------------\u001b[0m",
            "\u001b[0;31mNameError\u001b[0m                                 Traceback (most recent call last)",
            "\u001b[0;32m<ipython-input-53-215a867a1d36>\u001b[0m in \u001b[0;36m<cell line: 0>\u001b[0;34m()\u001b[0m\n\u001b[1;32m      1\u001b[0m \u001b[0;31m# Execute this to save new versions of the notebook\u001b[0m\u001b[0;34m\u001b[0m\u001b[0;34m\u001b[0m\u001b[0m\n\u001b[0;32m----> 2\u001b[0;31m \u001b[0mjovian\u001b[0m\u001b[0;34m.\u001b[0m\u001b[0mcommit\u001b[0m\u001b[0;34m(\u001b[0m\u001b[0mproject\u001b[0m\u001b[0;34m=\u001b[0m\u001b[0;34m\"python-common-errors\"\u001b[0m\u001b[0;34m)\u001b[0m\u001b[0;34m\u001b[0m\u001b[0;34m\u001b[0m\u001b[0m\n\u001b[0m",
            "\u001b[0;31mNameError\u001b[0m: name 'jovian' is not defined"
          ]
        }
      ],
      "source": [
        "# Execute this to save new versions of the notebook\n",
        "jovian.commit(project=\"python-common-errors\")"
      ]
    },
    {
      "cell_type": "code",
      "execution_count": null,
      "metadata": {
        "id": "BmKDJ5kPYENk"
      },
      "outputs": [],
      "source": []
    }
  ],
  "metadata": {
    "colab": {
      "provenance": [],
      "include_colab_link": true
    },
    "kernelspec": {
      "display_name": "Python 3",
      "language": "python",
      "name": "python3"
    },
    "language_info": {
      "codemirror_mode": {
        "name": "ipython",
        "version": 3
      },
      "file_extension": ".py",
      "mimetype": "text/x-python",
      "name": "python",
      "nbconvert_exporter": "python",
      "pygments_lexer": "ipython3",
      "version": "3.7.6"
    }
  },
  "nbformat": 4,
  "nbformat_minor": 0
}